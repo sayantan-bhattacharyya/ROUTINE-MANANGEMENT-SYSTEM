{
 "cells": [
  {
   "cell_type": "markdown",
   "metadata": {},
   "source": [
    "# Routine Management System"
   ]
  },
  {
   "cell_type": "markdown",
   "metadata": {},
   "source": [
    "\n",
    "### Sayantan Bhattacharyya\n",
    "### Stream- CSE\n",
    "### Batch- 2020-2024\n",
    "### Enrollment no.- 12020002002159\n",
    "### Sec- B\n",
    "### Roll- 120"
   ]
  },
  {
   "cell_type": "code",
   "execution_count": 1,
   "metadata": {},
   "outputs": [],
   "source": [
    "import pandas as pd"
   ]
  },
  {
   "cell_type": "code",
   "execution_count": 2,
   "metadata": {},
   "outputs": [],
   "source": [
    "def create_csv(p):\n",
    "    df=pd.DataFrame(tt)\n",
    "    df.to_csv('timetable.csv')\n",
    "    alter(p)"
   ]
  },
  {
   "cell_type": "code",
   "execution_count": 3,
   "metadata": {},
   "outputs": [],
   "source": [
    "def alter(p):\n",
    "    filename='timetable.csv'\n",
    "    timetable_file=pd.read_csv(filename)\n",
    "    dict={}\n",
    "    for i in range(0, p+1):\n",
    "        if i==0:\n",
    "            dict[str(i)]=\"DAY\"\n",
    "        else:\n",
    "            dict[str(i)]=\"PERIOD \"+str(i)\n",
    "    timetable_file=timetable_file.drop('Unnamed: 0', axis=1)\n",
    "    timetable_file=timetable_file.rename(dict, axis=1)\n",
    "    timetable_file=timetable_file.set_index(\"DAY\")\n",
    "    timetable_file.to_csv('timetable.csv')\n",
    "    display(timetable_file)\n",
    "    "
   ]
  },
  {
   "cell_type": "code",
   "execution_count": 4,
   "metadata": {},
   "outputs": [],
   "source": [
    "#creating the timetable through the concept of 2D string array with means of python lists\n",
    "tt=[]\n",
    "def create():\n",
    "    day_count=int(input(\"Enter no. of Days--\"))\n",
    "    peroid_count=int(input(\"Enter no. of periods each day--\"))\n",
    "    days=[]\n",
    "    time=[]\n",
    "    time.append(\"----------\")\n",
    "    subs=[]\n",
    "    print(\"Enter days of a week for timetable--\")\n",
    "    print(\"[In chronological order]\")\n",
    "    for i in range(day_count):\n",
    "        a=input(\"Enter: \")\n",
    "        days.append(a)\n",
    "    i=0\n",
    "    print(\"Enter time for each period\")\n",
    "    print(\"[In 24 hrs format]\")\n",
    "    for i in range(peroid_count):\n",
    "        t=input(\"Time for period \"+str(i+1)+\" :\")\n",
    "        time.append(t)\n",
    "    tt.append(time)\n",
    "    i=0\n",
    "    for i in days:\n",
    "        subs.append(i)\n",
    "        for j in range(len(time)-1):\n",
    "            s=input(\"Enter subject for \"+i+\" period \"+str(j+1)+\" : \")\n",
    "            subs.append(s)\n",
    "        tt.append(subs)\n",
    "        subs=[]\n",
    "    create_csv(peroid_count)"
   ]
  },
  {
   "cell_type": "code",
   "execution_count": 5,
   "metadata": {},
   "outputs": [],
   "source": [
    "def show_csv():\n",
    "    filename='timetable.csv'\n",
    "    timetable_file=pd.read_csv(filename)\n",
    "    print(\"TimeTable Exists\")\n",
    "    print(\"Displaying TimeTable\")\n",
    "    display(timetable_file)"
   ]
  },
  {
   "cell_type": "code",
   "execution_count": 7,
   "metadata": {},
   "outputs": [
    {
     "name": "stdout",
     "output_type": "stream",
     "text": [
      "TimeTable Exists\n",
      "Displaying TimeTable\n"
     ]
    },
    {
     "data": {
      "text/html": [
       "<div>\n",
       "<style scoped>\n",
       "    .dataframe tbody tr th:only-of-type {\n",
       "        vertical-align: middle;\n",
       "    }\n",
       "\n",
       "    .dataframe tbody tr th {\n",
       "        vertical-align: top;\n",
       "    }\n",
       "\n",
       "    .dataframe thead th {\n",
       "        text-align: right;\n",
       "    }\n",
       "</style>\n",
       "<table border=\"1\" class=\"dataframe\">\n",
       "  <thead>\n",
       "    <tr style=\"text-align: right;\">\n",
       "      <th></th>\n",
       "      <th>DAY</th>\n",
       "      <th>PERIOD 1</th>\n",
       "      <th>PERIOD 2</th>\n",
       "      <th>PERIOD 3</th>\n",
       "      <th>PERIOD 4</th>\n",
       "      <th>PERIOD 5</th>\n",
       "      <th>PERIOD 6</th>\n",
       "    </tr>\n",
       "  </thead>\n",
       "  <tbody>\n",
       "    <tr>\n",
       "      <th>0</th>\n",
       "      <td>----------</td>\n",
       "      <td>9:30-10:30</td>\n",
       "      <td>10:30-11:30</td>\n",
       "      <td>11:30-12:30</td>\n",
       "      <td>13:15-14:15</td>\n",
       "      <td>14:15-15:15</td>\n",
       "      <td>15:15-16:15</td>\n",
       "    </tr>\n",
       "    <tr>\n",
       "      <th>1</th>\n",
       "      <td>MONDAY</td>\n",
       "      <td>Python</td>\n",
       "      <td>Maths</td>\n",
       "      <td>English</td>\n",
       "      <td>DSA</td>\n",
       "      <td>SDP</td>\n",
       "      <td>SDP</td>\n",
       "    </tr>\n",
       "    <tr>\n",
       "      <th>2</th>\n",
       "      <td>TUESDAY</td>\n",
       "      <td>Analog Electronics</td>\n",
       "      <td>English</td>\n",
       "      <td>AI-ML</td>\n",
       "      <td>DSA</td>\n",
       "      <td>Digital Electronics Lab</td>\n",
       "      <td>Digital Electronics Lab</td>\n",
       "    </tr>\n",
       "    <tr>\n",
       "      <th>3</th>\n",
       "      <td>WEDNESDAY</td>\n",
       "      <td>Maths</td>\n",
       "      <td>Analog Electronics LAb</td>\n",
       "      <td>Analog Electronics Lab</td>\n",
       "      <td>Digital Electronics</td>\n",
       "      <td>ESP</td>\n",
       "      <td>ESP</td>\n",
       "    </tr>\n",
       "    <tr>\n",
       "      <th>4</th>\n",
       "      <td>THURSDAY</td>\n",
       "      <td>DSA</td>\n",
       "      <td>Digital Electronics</td>\n",
       "      <td>English</td>\n",
       "      <td>job preparation</td>\n",
       "      <td>job preparation</td>\n",
       "      <td>Mentoring</td>\n",
       "    </tr>\n",
       "    <tr>\n",
       "      <th>5</th>\n",
       "      <td>FRIDAY</td>\n",
       "      <td>AI-ML</td>\n",
       "      <td>DSA lab</td>\n",
       "      <td>DSA lab</td>\n",
       "      <td>R/Scilab</td>\n",
       "      <td>Project</td>\n",
       "      <td>Project</td>\n",
       "    </tr>\n",
       "  </tbody>\n",
       "</table>\n",
       "</div>"
      ],
      "text/plain": [
       "          DAY            PERIOD 1                PERIOD 2  \\\n",
       "0  ----------          9:30-10:30             10:30-11:30   \n",
       "1      MONDAY              Python                   Maths   \n",
       "2     TUESDAY  Analog Electronics                 English   \n",
       "3   WEDNESDAY               Maths  Analog Electronics LAb   \n",
       "4    THURSDAY                 DSA     Digital Electronics   \n",
       "5      FRIDAY               AI-ML                 DSA lab   \n",
       "\n",
       "                 PERIOD 3             PERIOD 4                 PERIOD 5  \\\n",
       "0             11:30-12:30          13:15-14:15              14:15-15:15   \n",
       "1                 English                  DSA                      SDP   \n",
       "2                   AI-ML                  DSA  Digital Electronics Lab   \n",
       "3  Analog Electronics Lab  Digital Electronics                      ESP   \n",
       "4                 English      job preparation          job preparation   \n",
       "5                 DSA lab             R/Scilab                  Project   \n",
       "\n",
       "                  PERIOD 6  \n",
       "0              15:15-16:15  \n",
       "1                      SDP  \n",
       "2  Digital Electronics Lab  \n",
       "3                      ESP  \n",
       "4                Mentoring  \n",
       "5                  Project  "
      ]
     },
     "metadata": {},
     "output_type": "display_data"
    }
   ],
   "source": [
    "try:\n",
    "    show_csv()\n",
    "except:\n",
    "    print(\"TimeTable dosn't exists. Need to create one.\")\n",
    "    create()"
   ]
  },
  {
   "cell_type": "code",
   "execution_count": null,
   "metadata": {},
   "outputs": [],
   "source": []
  }
 ],
 "metadata": {
  "kernelspec": {
   "display_name": "Python 3 (ipykernel)",
   "language": "python",
   "name": "python3"
  },
  "language_info": {
   "codemirror_mode": {
    "name": "ipython",
    "version": 3
   },
   "file_extension": ".py",
   "mimetype": "text/x-python",
   "name": "python",
   "nbconvert_exporter": "python",
   "pygments_lexer": "ipython3",
   "version": "3.10.0"
  }
 },
 "nbformat": 4,
 "nbformat_minor": 4
}
